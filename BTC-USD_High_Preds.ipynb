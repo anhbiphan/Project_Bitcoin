{
 "cells": [
  {
   "cell_type": "markdown",
   "metadata": {},
   "source": [
    "# Identifying the Highs of Closing Price"
   ]
  },
  {
   "cell_type": "markdown",
   "metadata": {},
   "source": [
    "# Imports "
   ]
  },
  {
   "cell_type": "code",
   "execution_count": 1,
   "metadata": {},
   "outputs": [],
   "source": [
    "import pandas as pd\n",
    "import matplotlib.pyplot as plt\n",
    "import seaborn as sns; sns.set()\n",
    "%matplotlib inline\n",
    "\n",
    "import numpy as np\n",
    "\n",
    "import yfinance as yf\n",
    "import datetime as dt\n",
    "from datetime import date\n",
    "from sklearn import preprocessing\n",
    "\n",
    "from sklearn.linear_model import LogisticRegression\n",
    "\n",
    "\n",
    "from sklearn.model_selection import cross_val_score, cross_val_predict\n",
    "from sklearn.pipeline import make_pipeline\n",
    "\n",
    "from sklearn.metrics import accuracy_score, roc_auc_score\n",
    "\n",
    "from scipy.signal import savgol_filter, argrelmin, argrelmax \n",
    "\n",
    "import warnings\n",
    "warnings.filterwarnings(\"ignore\")"
   ]
  },
  {
   "cell_type": "markdown",
   "metadata": {},
   "source": [
    "# Bitcoin Dataset from Yahoo Finance"
   ]
  },
  {
   "cell_type": "code",
   "execution_count": 2,
   "metadata": {
    "scrolled": true
   },
   "outputs": [
    {
     "data": {
      "text/plain": [
       "'2020-06-10'"
      ]
     },
     "execution_count": 2,
     "metadata": {},
     "output_type": "execute_result"
    }
   ],
   "source": [
    "# Here we create the present date as the end date for our yahoo finance end day.\n",
    "today = date.today().strftime('%Y-%m-%d')\n",
    "today"
   ]
  },
  {
   "cell_type": "code",
   "execution_count": 3,
   "metadata": {},
   "outputs": [],
   "source": [
    "# We will grab our data from Yahoo Finance\n",
    "# We have to set a start date for the first initial data and th end date.\n",
    "data = yf.Ticker('BTC-USD')\n",
    "bit_data = data.history(start='2018-01-01',end=today)"
   ]
  },
  {
   "cell_type": "code",
   "execution_count": 4,
   "metadata": {},
   "outputs": [],
   "source": [
    "bitcoin = bit_data"
   ]
  },
  {
   "cell_type": "code",
   "execution_count": 5,
   "metadata": {},
   "outputs": [
    {
     "data": {
      "text/plain": [
       "(892, 7)"
      ]
     },
     "execution_count": 5,
     "metadata": {},
     "output_type": "execute_result"
    }
   ],
   "source": [
    "bitcoin.shape"
   ]
  },
  {
   "cell_type": "code",
   "execution_count": 6,
   "metadata": {
    "scrolled": true
   },
   "outputs": [
    {
     "data": {
      "text/html": [
       "<div>\n",
       "<style scoped>\n",
       "    .dataframe tbody tr th:only-of-type {\n",
       "        vertical-align: middle;\n",
       "    }\n",
       "\n",
       "    .dataframe tbody tr th {\n",
       "        vertical-align: top;\n",
       "    }\n",
       "\n",
       "    .dataframe thead th {\n",
       "        text-align: right;\n",
       "    }\n",
       "</style>\n",
       "<table border=\"1\" class=\"dataframe\">\n",
       "  <thead>\n",
       "    <tr style=\"text-align: right;\">\n",
       "      <th></th>\n",
       "      <th>Open</th>\n",
       "      <th>High</th>\n",
       "      <th>Low</th>\n",
       "      <th>Close</th>\n",
       "      <th>Volume</th>\n",
       "      <th>Dividends</th>\n",
       "      <th>Stock Splits</th>\n",
       "    </tr>\n",
       "    <tr>\n",
       "      <th>Date</th>\n",
       "      <th></th>\n",
       "      <th></th>\n",
       "      <th></th>\n",
       "      <th></th>\n",
       "      <th></th>\n",
       "      <th></th>\n",
       "      <th></th>\n",
       "    </tr>\n",
       "  </thead>\n",
       "  <tbody>\n",
       "    <tr>\n",
       "      <td>2020-06-06</td>\n",
       "      <td>9664.90</td>\n",
       "      <td>9773.43</td>\n",
       "      <td>9591.02</td>\n",
       "      <td>9653.68</td>\n",
       "      <td>20438419222</td>\n",
       "      <td>0</td>\n",
       "      <td>0</td>\n",
       "    </tr>\n",
       "    <tr>\n",
       "      <td>2020-06-07</td>\n",
       "      <td>9653.00</td>\n",
       "      <td>9768.50</td>\n",
       "      <td>9458.15</td>\n",
       "      <td>9758.85</td>\n",
       "      <td>25015250846</td>\n",
       "      <td>0</td>\n",
       "      <td>0</td>\n",
       "    </tr>\n",
       "    <tr>\n",
       "      <td>2020-06-08</td>\n",
       "      <td>9760.06</td>\n",
       "      <td>9782.31</td>\n",
       "      <td>9675.89</td>\n",
       "      <td>9771.49</td>\n",
       "      <td>21486346312</td>\n",
       "      <td>0</td>\n",
       "      <td>0</td>\n",
       "    </tr>\n",
       "    <tr>\n",
       "      <td>2020-06-09</td>\n",
       "      <td>9774.36</td>\n",
       "      <td>9836.37</td>\n",
       "      <td>9664.72</td>\n",
       "      <td>9795.70</td>\n",
       "      <td>23717842783</td>\n",
       "      <td>0</td>\n",
       "      <td>0</td>\n",
       "    </tr>\n",
       "    <tr>\n",
       "      <td>2020-06-10</td>\n",
       "      <td>9793.56</td>\n",
       "      <td>9906.04</td>\n",
       "      <td>9740.84</td>\n",
       "      <td>9871.35</td>\n",
       "      <td>25532358656</td>\n",
       "      <td>0</td>\n",
       "      <td>0</td>\n",
       "    </tr>\n",
       "  </tbody>\n",
       "</table>\n",
       "</div>"
      ],
      "text/plain": [
       "               Open     High      Low    Close       Volume  Dividends  \\\n",
       "Date                                                                     \n",
       "2020-06-06  9664.90  9773.43  9591.02  9653.68  20438419222          0   \n",
       "2020-06-07  9653.00  9768.50  9458.15  9758.85  25015250846          0   \n",
       "2020-06-08  9760.06  9782.31  9675.89  9771.49  21486346312          0   \n",
       "2020-06-09  9774.36  9836.37  9664.72  9795.70  23717842783          0   \n",
       "2020-06-10  9793.56  9906.04  9740.84  9871.35  25532358656          0   \n",
       "\n",
       "            Stock Splits  \n",
       "Date                      \n",
       "2020-06-06             0  \n",
       "2020-06-07             0  \n",
       "2020-06-08             0  \n",
       "2020-06-09             0  \n",
       "2020-06-10             0  "
      ]
     },
     "execution_count": 6,
     "metadata": {},
     "output_type": "execute_result"
    }
   ],
   "source": [
    "bitcoin.tail()"
   ]
  },
  {
   "cell_type": "code",
   "execution_count": 7,
   "metadata": {},
   "outputs": [],
   "source": [
    "# Dropping 'Dividends' , 'Stock Splits' because they contain NO data.\n",
    "bitcoin.drop(columns=['Dividends', 'Stock Splits'], inplace=True)"
   ]
  },
  {
   "cell_type": "code",
   "execution_count": 8,
   "metadata": {},
   "outputs": [
    {
     "data": {
      "image/png": "[encoded data removed]",
      "text/plain": [
       "<Figure size 1152x432 with 1 Axes>"
      ]
     },
     "metadata": {
      "needs_background": "light"
     },
     "output_type": "display_data"
    }
   ],
   "source": [
    "# Lets see our data\n",
    "plt.figure(figsize=(16,6))\n",
    "bitcoin.Close.plot()\n",
    "plt.title('Bitcoin History from 2018')\n",
    "plt.ylabel('Price');"
   ]
  },
  {
   "cell_type": "markdown",
   "metadata": {},
   "source": [
    "## Smooth out the data and remove noise"
   ]
  },
  {
   "cell_type": "markdown",
   "metadata": {},
   "source": [
    "### **savgol_filter**\n",
    "- will smooth out our data points and make the graph less volatile.\n",
    "\n",
    "https://docs.scipy.org/doc/scipy-0.15.1/reference/generated/scipy.signal.savgol_filter.html"
   ]
  },
  {
   "cell_type": "code",
   "execution_count": null,
   "metadata": {},
   "outputs": [],
   "source": [
    "# We create a new columns and start with with a 0 int. \n",
    "# savgol_filter will smooth out the data \n",
    "# polyorder(int) will be how smooth you want the data. (lower = more smooth)/(high = less smooth)\n",
    "# Window will be the length we want to filter (must be odd int.)\n",
    "window = 9\n",
    "bitcoin['smooth'] = savgol_filter(bitcoin.Close, window, polyorder=6)"
   ]
  },
  {
   "cell_type": "code",
   "execution_count": null,
   "metadata": {
    "scrolled": false
   },
   "outputs": [],
   "source": [
    "# less sharpness of points and visually less volatile than their original values\n",
    "plt.figure(figsize=(16,8))\n",
    "bitcoin.Close.plot()\n",
    "bitcoin.smooth.plot(label='Price Line')\n",
    "plt.ylabel('Closing Prices')\n",
    "plt.title('Closing Prices 2018-Present', fontsize=15)\n",
    "plt.legend()\n",
    "# plt.savefig('bitcoin_graph', transparent =True);"
   ]
  },
  {
   "cell_type": "code",
   "execution_count": null,
   "metadata": {},
   "outputs": [],
   "source": [
    "# Here we can see that the smooth column is a bit off compared to the Close column. \n",
    "# Smooth column represents Close price, but smoother or a bit less stiff\n",
    "bitcoin.tail(15)"
   ]
  },
  {
   "cell_type": "markdown",
   "metadata": {},
   "source": [
    "### argrelmin\n",
    "https://docs.scipy.org/doc/scipy-0.16.0/reference/generated/scipy.signal.argrelmin.html\n",
    "### argrelmax\n",
    "https://docs.scipy.org/doc/scipy-0.16.0/reference/generated/scipy.signal.argrelmax.html#scipy.signal.argrelmax\n",
    "\n",
    "- argrelmin/max: will find the minima/maxima \n",
    "- order is the amount of data points to the left and right. (the amount of adjacent points)"
   ]
  },
  {
   "cell_type": "code",
   "execution_count": null,
   "metadata": {},
   "outputs": [],
   "source": [
    "# we will create a new column in the dataframe and set all values to 0\n",
    "# order: amount of array in which to find the relative minima\n",
    "# selecting the [0], turns type numpy.ndarray(tuple does not have .tolist meth.). Turn to list type\n",
    "\n",
    "min_ids = 'min_ids'\n",
    "max_ids = 'max_ids'\n",
    "bitcoin[max_ids] = 0\n",
    "bitcoin[min_ids] = 0\n",
    "\n",
    "min_id = argrelmin(bitcoin.smooth.values, order=10)[0].tolist()\n",
    "max_id = argrelmax(bitcoin.smooth.values, order=10)[0].tolist()\n",
    "\n",
    "# .iloc the min/max and turn them to 1, to indicate if they are low/high price point\n",
    "# all other data will be 0 if they are not low/high indicators \n",
    "bitcoin[min_ids].iloc[min_id] = 1\n",
    "bitcoin[max_ids].iloc[max_id] = 1"
   ]
  },
  {
   "cell_type": "code",
   "execution_count": null,
   "metadata": {
    "scrolled": true
   },
   "outputs": [],
   "source": [
    "bitcoin.tail(30)"
   ]
  },
  {
   "cell_type": "code",
   "execution_count": null,
   "metadata": {},
   "outputs": [],
   "source": [
    "plt.figure(figsize=(14,6))\n",
    "bitcoin.smooth.plot(label='Smoothed price')\n",
    "(5000*bitcoin.max_ids).plot(color='green', label='High Indicators')\n",
    "plt.title('The Indicators', fontsize=20)\n",
    "plt.ylabel('Price', fontsize=15)\n",
    "plt.legend(fontsize=15);"
   ]
  },
  {
   "cell_type": "markdown",
   "metadata": {},
   "source": [
    "# Baseline Model\n",
    "## LogisticRegression Model: target: max_ids (High Close Price) Best Buy Price"
   ]
  },
  {
   "cell_type": "code",
   "execution_count": null,
   "metadata": {},
   "outputs": [],
   "source": [
    "features_list = bitcoin.drop(columns=['Open', 'High', 'Low', 'Close', 'max_ids']).columns.tolist()\n",
    "features_list"
   ]
  },
  {
   "cell_type": "code",
   "execution_count": null,
   "metadata": {},
   "outputs": [],
   "source": [
    "X = bitcoin[features_list]\n",
    "y = bitcoin['max_ids']"
   ]
  },
  {
   "cell_type": "code",
   "execution_count": null,
   "metadata": {},
   "outputs": [],
   "source": [
    "scaler = preprocessing.RobustScaler().fit(X)\n",
    "LogReg = LogisticRegression(penalty='l2', class_weight='balanced', random_state=42, solver='lbfgs', C=5.0)\n",
    "pipe = make_pipeline(scaler, LogReg)\n",
    "\n",
    "# Here we use a roc_auc to score the ability to distinguish the difference between target\n",
    "scores = cross_val_score(pipe, X, y, n_jobs=-1, cv=4, scoring='roc_auc')\n",
    "scores.mean(), scores.std()"
   ]
  },
  {
   "cell_type": "code",
   "execution_count": null,
   "metadata": {},
   "outputs": [],
   "source": [
    "scores = cross_val_score(pipe, X, y, n_jobs=-1, cv=4, scoring='accuracy')\n",
    "scores.mean(), scores.std()"
   ]
  },
  {
   "cell_type": "markdown",
   "metadata": {},
   "source": [
    "----------------------------------------------------------------------------------------------------------"
   ]
  },
  {
   "cell_type": "markdown",
   "metadata": {},
   "source": [
    "# Feature Engineering"
   ]
  },
  {
   "cell_type": "markdown",
   "metadata": {},
   "source": [
    "- MACD: Moving Average Convergence Divergence\n",
    "    - Subtracts the 26-period Expoential Moving Average(EMA) from the 12-period (EMA). \n",
    "    - https://www.investopedia.com/terms/m/macd.asp\n",
    "- Std: of rolling (n)windows\n",
    "    - this will give us a standard deviation of (n)windows from the mean.\n",
    "- RSI: Relative Strength Index\n",
    "    - this is a momentum indicator.\n",
    "    - the standard period is 14(days)\n",
    "    - calulates the average gain and lose for a period of time\n",
    "    - values 0 - 100\n",
    "    - https://www.investopedia.com/terms/r/rsi.asp\n",
    "- EWM: Exponential Weighted function\n",
    "    - https://pandas.pydata.org/pandas-docs/stable/reference/api/pandas.DataFrame.ewm.html"
   ]
  },
  {
   "cell_type": "code",
   "execution_count": null,
   "metadata": {},
   "outputs": [],
   "source": [
    "# the window we will use is a 5 and 10 day window\n",
    "# we will find the avg. of these windows and subtract \n",
    "windows = [5, 10]\n",
    "\n",
    "for w in windows:\n",
    "    rm = bitcoin.Close.rolling(w).mean()\n",
    "    bitcoin['MACD_'+str(w)] = rm - bitcoin.Close\n",
    "    bitcoin['Std_'+str(w)] = bitcoin.Close.rolling(w).std()    \n",
    "    \n",
    "    \n",
    "# the rsi_period will be our standard 14 day window\n",
    "# Out of the 14 day period. We want to know what are the gains and losses\n",
    "# 1. we will need to know the diff(1) of two diff. days periodically. \n",
    "# 2. we use mask to hide any data that is not a gain \n",
    "    # - this will hide the losses and 0 changes.\n",
    "# 3. this is the same for our loss, hide anything that is not a loss\n",
    "\n",
    "rsi_period = 14\n",
    "change = bitcoin.Close.diff(1)\n",
    "gain = change.mask(change<0,0)\n",
    "loss = change.mask(change>0,0)\n",
    "\n",
    "# here we use EWM to find the gain/loss with a period of time\n",
    "# min_periods: will be our standard 14 day period\n",
    "# com: is the period that we want to weight in\n",
    "    # - we want to use the 14 day period, but compare the avg. gain/loss to the original close price\n",
    "    # - hence why we subtract 1, taking the initial closing price out of the equation since we are\n",
    "    # using it as a comparison\n",
    "# we will do this for the gain and loss averages.\n",
    "avg_gain = gain.ewm(com=rsi_period-1, min_periods=rsi_period).mean()\n",
    "avg_loss = loss.ewm(com=rsi_period-1, min_periods=rsi_period).mean()\n",
    "\n",
    "# here we find the absolute value of the relative strength for the gain and loss\n",
    "rs = abs(avg_gain/avg_loss)\n",
    "\n",
    "# this is the equation/math for RSI\n",
    "# we will subtract it from 100 since the scale is 0-100.\n",
    "rsi = 100 - (100/(1+rs))\n",
    "bitcoin['RSI'] = rsi\n",
    "\n",
    "# after finding and creating a new RSI column, we will drop all NANs\n",
    "clean_bit = bitcoin.dropna()"
   ]
  },
  {
   "cell_type": "code",
   "execution_count": null,
   "metadata": {},
   "outputs": [],
   "source": [
    "clean_bit.shape\n",
    "# we did lose a bit of information from dropping NaNs, but that's okay."
   ]
  },
  {
   "cell_type": "markdown",
   "metadata": {},
   "source": [
    "### Setting up a binary classifier for RSI"
   ]
  },
  {
   "cell_type": "code",
   "execution_count": null,
   "metadata": {},
   "outputs": [],
   "source": [
    "# here we create new columns to help us identify if the RSI is >=70 or <=30\n",
    "# initially we just want the columns to be all 0, we will change this later\n",
    "# we call upon the new column and .loc the 'RSI' with a bool statement\n",
    "# if the statement is True then we will identify it as a 1, if not then it will remain a 0\n",
    "\n",
    "rsi_70 = 'RSI_70'\n",
    "rsi_30 = 'RSI_30'\n",
    "clean_bit[rsi_70] = 0\n",
    "clean_bit[rsi_30] = 0\n",
    "clean_bit[rsi_70].loc[bitcoin['RSI'] >=70] = 1\n",
    "clean_bit[rsi_30].loc[bitcoin['RSI'] <=30] = 1"
   ]
  },
  {
   "cell_type": "code",
   "execution_count": null,
   "metadata": {
    "scrolled": false
   },
   "outputs": [],
   "source": [
    "# we can see that our binary classifying worked\n",
    "clean_bit.tail()"
   ]
  },
  {
   "cell_type": "code",
   "execution_count": null,
   "metadata": {
    "scrolled": true
   },
   "outputs": [],
   "source": [
    "clean_bit.head(20)"
   ]
  },
  {
   "cell_type": "markdown",
   "metadata": {},
   "source": [
    "## High Close Predictions + New Features"
   ]
  },
  {
   "cell_type": "code",
   "execution_count": null,
   "metadata": {},
   "outputs": [],
   "source": [
    "# for the high, we're going to switch our the y(target)\n",
    "features_list2 = clean_bit.drop(columns=['Open', 'High', 'Low', 'Close', 'max_ids']).columns.tolist()\n",
    "X = clean_bit[features_list2]\n",
    "y = clean_bit['max_ids']"
   ]
  },
  {
   "cell_type": "code",
   "execution_count": null,
   "metadata": {},
   "outputs": [],
   "source": [
    "scaler = preprocessing.RobustScaler().fit(X)\n",
    "LogReg = LogisticRegression(penalty='l2', class_weight='balanced', random_state=42, solver='lbfgs', C=5.0)\n",
    "pipe = make_pipeline(scaler, LogReg)\n",
    "\n",
    "# Here we use a roc_auc to score the ability to distinguish the difference between target\n",
    "scores = cross_val_score(pipe, X, y, n_jobs=-1, cv=4, scoring='roc_auc')\n",
    "scores.mean(), scores.std()"
   ]
  },
  {
   "cell_type": "code",
   "execution_count": null,
   "metadata": {},
   "outputs": [],
   "source": [
    "scores = cross_val_score(pipe, X, y, n_jobs=-1, cv=4, scoring='accuracy')\n",
    "scores.mean(), scores.std()"
   ]
  },
  {
   "cell_type": "code",
   "execution_count": null,
   "metadata": {},
   "outputs": [],
   "source": [
    "high_preds = cross_val_predict(pipe, X, y, n_jobs=-1, cv=5)\n",
    "clean_bit['high_preds'] = high_preds.tolist()"
   ]
  },
  {
   "cell_type": "code",
   "execution_count": null,
   "metadata": {
    "scrolled": false
   },
   "outputs": [],
   "source": [
    "plt.figure(figsize=(16,8))\n",
    "clean_bit.smooth.plot(label='Prices')\n",
    "(4000*clean_bit.max_ids).plot(color='r', label='High Price Labels')\n",
    "(3000*clean_bit.high_preds).plot(color='g', label='Predictions')\n",
    "plt.ylabel('Closing Price')\n",
    "plt.title('High Prediction', fontsize=20)\n",
    "plt.legend(fontsize=15);\n",
    "# plt.savefig('High_prices', transparent =True);"
   ]
  },
  {
   "cell_type": "markdown",
   "metadata": {},
   "source": [
    "- the model did miss some high points for the true highs\n",
    "- but it also found some similar highs on the graph"
   ]
  },
  {
   "cell_type": "code",
   "execution_count": null,
   "metadata": {
    "scrolled": true
   },
   "outputs": [],
   "source": [
    "clean_bit[['Close', 'smooth', 'max_ids', 'high_preds']].tail(10)"
   ]
  },
  {
   "cell_type": "markdown",
   "metadata": {},
   "source": [
    "### RSI Graph\n",
    "\n",
    "- 70 or higher: overbought or overvalued\n",
    "- 30 or less: underbought or undervalued\n",
    "- This graph can show use the flow of the stock's momentum if the value is too high or too low\n",
    "- RSI can help us predict the possibility of a future drop or a raise."
   ]
  },
  {
   "cell_type": "code",
   "execution_count": null,
   "metadata": {},
   "outputs": [],
   "source": [
    "plt.figure(figsize=(12,6))\n",
    "plt.yticks(np.arange(0,100, step=10))\n",
    "clean_bit.RSI.plot()\n",
    "plt.axhline(y=30, color='r')\n",
    "plt.axhline(y=70, color='r')\n",
    "plt.title('RSI', fontsize=15);"
   ]
  },
  {
   "cell_type": "code",
   "execution_count": null,
   "metadata": {},
   "outputs": [],
   "source": []
  },
  {
   "cell_type": "code",
   "execution_count": null,
   "metadata": {},
   "outputs": [],
   "source": []
  }
 ],
 "metadata": {
  "kernelspec": {
   "display_name": "Python [conda env:learn-env] *",
   "language": "python",
   "name": "conda-env-learn-env-py"
  },
  "language_info": {
   "codemirror_mode": {
    "name": "ipython",
    "version": 3
   },
   "file_extension": ".py",
   "mimetype": "text/x-python",
   "name": "python",
   "nbconvert_exporter": "python",
   "pygments_lexer": "ipython3",
   "version": "3.6.9"
  }
 },
 "nbformat": 4,
 "nbformat_minor": 2
}
